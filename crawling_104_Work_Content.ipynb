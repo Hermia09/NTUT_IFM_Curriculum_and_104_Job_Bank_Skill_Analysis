{
  "nbformat": 4,
  "nbformat_minor": 0,
  "metadata": {
    "colab": {
      "provenance": []
    },
    "kernelspec": {
      "name": "python3",
      "display_name": "Python 3"
    },
    "language_info": {
      "name": "python"
    }
  },
  "cells": [
    {
      "cell_type": "code",
      "execution_count": null,
      "metadata": {
        "id": "72Ly2rU4h79M"
      },
      "outputs": [],
      "source": [
        "import json\n",
        "from bs4 import BeautifulSoup\n",
        "\n",
        "# 假設 `html_content` 是從網頁加載的 HTML 內容\n",
        "html_content = '...'\n",
        "\n",
        "# 使用 BeautifulSoup 解析 HTML\n",
        "soup = BeautifulSoup(html_content, 'html.parser')\n",
        "\n",
        "# 尋找包含 JSON-LD 的 <script> 標籤\n",
        "script_tags = soup.find_all('script', type='application/ld+json')"
      ]
    },
    {
      "cell_type": "markdown",
      "source": [
        "# **1-1.檢查 JSON-LD 數據：**\n",
        "確認從`script標籤`中提取出來的數據是有效的`JSON`格式這可以通過打印出`script.string內容`並檢查它是否是一個有效的`JSON`字符串來完成。"
      ],
      "metadata": {
        "id": "_Wv5ZiM-j6Jw"
      }
    },
    {
      "cell_type": "code",
      "source": [
        "for script in script_tags:\n",
        "    print(script.string)\n",
        "    # 確保這是一個有效的 JSON 字符串"
      ],
      "metadata": {
        "id": "KKT4g5_kj1ku"
      },
      "execution_count": null,
      "outputs": []
    },
    {
      "cell_type": "markdown",
      "source": [
        "# **1-2.進行 JSON 解析：**\n",
        "使用 `json.loads()`將 `JSON` 字符串解析為 `Python 字典`，並捕捉任何可能出現的異常。"
      ],
      "metadata": {
        "id": "SeILnUmokW_k"
      }
    },
    {
      "cell_type": "code",
      "source": [
        "for script in script_tags:\n",
        "    try:\n",
        "        data = json.loads(script.string)\n",
        "    except json.JSONDecodeError as e:\n",
        "        print(\"JSON 解析錯誤：\", e)\n",
        "        # 如果出現解析錯誤，可以跳過此次循環的後續操作\n",
        "        continue"
      ],
      "metadata": {
        "id": "CfAjmZ29j4rq"
      },
      "execution_count": null,
      "outputs": []
    },
    {
      "cell_type": "markdown",
      "source": [
        "**3.檢查 @type 屬性：**\n",
        "確認解析後的字典中 `@type` 的值是否為 `'Event'`。可以在條件判斷之前打印 `@type` 的值來檢查。"
      ],
      "metadata": {
        "id": "1mdoYG0Ekn9S"
      }
    },
    {
      "cell_type": "code",
      "source": [
        "for script in script_tags:\n",
        "    data = json.loads(script.string)\n",
        "    # 打印出 @type 屬性來檢查它的值\n",
        "    print(data.get('@type'))\n",
        "    if data.get('@type') == 'Event':\n",
        "    # 這裡應該有一些代碼來處理當 @type 是 'Event' 時的情況\n",
        "      pass  # 'pass' 是一個占位符，什麼也不做，用於示例\n",
        "    else:\n",
        "    # 如果有 'else' 語句，這裡也應該有代碼\n",
        "      pass\n"
      ],
      "metadata": {
        "id": "kNRANL_h9Qi9"
      },
      "execution_count": null,
      "outputs": []
    },
    {
      "cell_type": "markdown",
      "source": [
        "**4.確保有條件匹配的項目：**\n",
        "如果 `@type` 屬性為 `'Event'` 的項目不存在，則代碼中相關處理的部分不會執行。確保至少有一個符合條件的項目存在。"
      ],
      "metadata": {
        "id": "Y7LqSDTY9REP"
      }
    },
    {
      "cell_type": "code",
      "source": [
        "found_event = False\n",
        "for script in script_tags:\n",
        "    data = json.loads(script.string)\n",
        "    if data.get('@type') == 'Event':\n",
        "        found_event = True\n",
        "        # ...（處理數據的代碼）\n",
        "if not found_event:\n",
        "    print(\"沒有找到任何 @type 為 Event 的項目\")"
      ],
      "metadata": {
        "colab": {
          "base_uri": "https://localhost:8080/"
        },
        "id": "EetKBF4j9XNG",
        "outputId": "eb0c85ca-2a66-4c1e-bf01-50e5899b3f8d"
      },
      "execution_count": null,
      "outputs": [
        {
          "output_type": "stream",
          "name": "stdout",
          "text": [
            "沒有找到任何 @type 為 Event 的項目\n"
          ]
        }
      ]
    },
    {
      "cell_type": "markdown",
      "source": [
        "如果你的腳本提示“`沒有找到任何 @type 為 Event 的項目`”，這意味著在解析的 JSON-LD 結構中沒有匹配到任何具有 `\"@type\": \"Event\"` 的項目。\n",
        "\n",
        "**以下是一些檢查和調試步驟，可以幫助你找出問題所在：**\n",
        "\n",
        "**1.檢查原始 HTML：**\n",
        "首先，確保你的 HTML 字符串或文檔中包含了正確的 `script type=\"application/ld+json\" `標籤。你可以打印原始的 HTML 來檢查這些標籤是否存在。\n",
        "\n",
        "**2.檢查提取的 JSON-LD：**\n",
        "確認從每個 `script` 標籤中提取的 `JSON-LD` 內容。你可以在 `json.loads()` 之前打印 `script.string` 或 `script.contents` 來查看它是否包含期望的數據。\n",
        "\n",
        "**3.檢查 JSON-LD 內容：**\n",
        "如果你能夠從 `script` 標籤中提取 `JSON-LD` 數據，請檢查這些數據是否實際包含 `\"@type\": \"Event\"` 屬性。有可能這些數據中的 `\"@type\"` 屬性有不同的值，或者格式不是你預期的。\n",
        "\n",
        "**4.驗證 JSON-LD 結構：**\n",
        "如果 `script` 標籤內的結構是一個 `JSON-LD` 列表（以 [ 開始和結束），你需要遍歷這個列表，而不是直接訪問它的 `\"@type\"` 屬性。\n",
        "\n",
        "**5.進行條件檢查：**\n",
        "如果存在多個 `JSON-LD` 腳本塊，請確保你的代碼遍歷了所有這些塊，並且檢查了每一個塊中的 `\"@type\"` 屬性。\n",
        "\n",
        "*以下是一個更新後的代碼示例，包含了一些額外的打印語句來幫助調試:"
      ],
      "metadata": {
        "id": "2Rgx2tnE-Yqa"
      }
    },
    {
      "cell_type": "code",
      "source": [
        "import json\n",
        "from bs4 import BeautifulSoup\n",
        "\n",
        "# 假設 `html_content` 是從網頁加載的 HTML 內容\n",
        "html_content = '...'  # 這裡應該是從網頁加載的實際 HTML 內容\n",
        "\n",
        "# 使用 BeautifulSoup 解析 HTML\n",
        "soup = BeautifulSoup(html_content, 'html.parser')\n",
        "\n",
        "# 尋找包含 JSON-LD 的 <script> 標籤\n",
        "script_tags = soup.find_all('script', type='application/ld+json')\n",
        "\n",
        "print(f\"找到了 {len(script_tags)} 個 <script> 標籤。\")\n",
        "\n",
        "# 對每個找到的 <script> 標籤進行處理\n",
        "for script in script_tags:\n",
        "    # 嘗試解析 JSON-LD 內容\n",
        "    try:\n",
        "        data = json.loads(script.string)\n",
        "        # 如果 data 是列表，遍歷列表中的每個項目\n",
        "        if isinstance(data, list):\n",
        "            for item in data:\n",
        "                if item.get('@type') == 'Event':\n",
        "                    print(\"找到了一個 @type 為 Event 的項目\")\n",
        "                    # 這裡添加處理項目的代碼\n",
        "        else:\n",
        "            if data.get('@type') == 'Event':\n",
        "                print(\"找到了一個 @type 為 Event 的項目\")\n",
        "                # 這裡添加處理項目的代碼\n",
        "    except json.JSONDecodeError as e:\n",
        "        print(\"JSON 解析錯誤：\", e)\n",
        "\n",
        "# 如果代碼結束後沒有打印出找到的項目，則表示沒有匹配的項目"
      ],
      "metadata": {
        "colab": {
          "base_uri": "https://localhost:8080/"
        },
        "id": "iE7C38AC-ZIQ",
        "outputId": "9df1110c-3ccb-48af-8a5d-7ecde41960d1"
      },
      "execution_count": null,
      "outputs": [
        {
          "output_type": "stream",
          "name": "stdout",
          "text": [
            "找到了 0 個 <script> 標籤。\n"
          ]
        }
      ]
    },
    {
      "cell_type": "markdown",
      "source": [
        "使用更廣泛的選擇器來嘗試找到 `script`標籤："
      ],
      "metadata": {
        "id": "GKufcThfAGEG"
      }
    },
    {
      "cell_type": "code",
      "source": [
        "script_tags = soup.find_all('script')\n",
        "print(f\"找到了 {len(script_tags)} 個 <script> 標籤。\")\n",
        "\n",
        "# 現在打印出每個 <script> 標籤，來檢查它們是否包含所需的 JSON-LD 數據\n",
        "for script in script_tags:\n",
        "    if 'application/ld+json' in script.attrs.get('type', ''):\n",
        "        print(script.string)"
      ],
      "metadata": {
        "colab": {
          "base_uri": "https://localhost:8080/"
        },
        "id": "YmfNkCYvAGRb",
        "outputId": "9f2414b9-9606-46a8-db8e-4846731f2c98"
      },
      "execution_count": null,
      "outputs": [
        {
          "output_type": "stream",
          "name": "stdout",
          "text": [
            "找到了 0 個 <script> 標籤。\n"
          ]
        }
      ]
    },
    {
      "cell_type": "markdown",
      "source": [
        "***使用 Selenium 獲取動態加載的網頁內容***，你需要安裝 Selenium 庫以及一個瀏覽器驅動（例如 ChromeDriver 或 GeckoDriver）。由於你正在使用 Colab，安裝和配置這些可能會有些不同於在本地機器上的步驟。\n",
        "\n",
        "**以下是在 Colab 中設置 Selenium 的一般步驤：**\n",
        "\n",
        "# **2-1.安裝 Selenium：**\n",
        "在 Colab 的單元格中運行以下命令來安裝 Selenium。"
      ],
      "metadata": {
        "id": "1QXFyflUA2M1"
      }
    },
    {
      "cell_type": "code",
      "source": [
        "!pip install selenium"
      ],
      "metadata": {
        "colab": {
          "base_uri": "https://localhost:8080/"
        },
        "id": "RSh3qngGA1Jo",
        "outputId": "f71a91ac-4c10-44e3-9736-088b583229bb"
      },
      "execution_count": null,
      "outputs": [
        {
          "output_type": "stream",
          "name": "stdout",
          "text": [
            "Collecting selenium\n",
            "  Downloading selenium-4.15.2-py3-none-any.whl (10.2 MB)\n",
            "\u001b[2K     \u001b[90m━━━━━━━━━━━━━━━━━━━━━━━━━━━━━━━━━━━━━━━━\u001b[0m \u001b[32m10.2/10.2 MB\u001b[0m \u001b[31m51.3 MB/s\u001b[0m eta \u001b[36m0:00:00\u001b[0m\n",
            "\u001b[?25hRequirement already satisfied: urllib3[socks]<3,>=1.26 in /usr/local/lib/python3.10/dist-packages (from selenium) (2.0.7)\n",
            "Collecting trio~=0.17 (from selenium)\n",
            "  Downloading trio-0.23.1-py3-none-any.whl (448 kB)\n",
            "\u001b[2K     \u001b[90m━━━━━━━━━━━━━━━━━━━━━━━━━━━━━━━━━━━━━━━━\u001b[0m \u001b[32m448.3/448.3 kB\u001b[0m \u001b[31m33.6 MB/s\u001b[0m eta \u001b[36m0:00:00\u001b[0m\n",
            "\u001b[?25hCollecting trio-websocket~=0.9 (from selenium)\n",
            "  Downloading trio_websocket-0.11.1-py3-none-any.whl (17 kB)\n",
            "Requirement already satisfied: certifi>=2021.10.8 in /usr/local/lib/python3.10/dist-packages (from selenium) (2023.7.22)\n",
            "Requirement already satisfied: attrs>=20.1.0 in /usr/local/lib/python3.10/dist-packages (from trio~=0.17->selenium) (23.1.0)\n",
            "Requirement already satisfied: sortedcontainers in /usr/local/lib/python3.10/dist-packages (from trio~=0.17->selenium) (2.4.0)\n",
            "Requirement already satisfied: idna in /usr/local/lib/python3.10/dist-packages (from trio~=0.17->selenium) (3.4)\n",
            "Collecting outcome (from trio~=0.17->selenium)\n",
            "  Downloading outcome-1.3.0.post0-py2.py3-none-any.whl (10 kB)\n",
            "Requirement already satisfied: sniffio>=1.3.0 in /usr/local/lib/python3.10/dist-packages (from trio~=0.17->selenium) (1.3.0)\n",
            "Requirement already satisfied: exceptiongroup>=1.0.0rc9 in /usr/local/lib/python3.10/dist-packages (from trio~=0.17->selenium) (1.1.3)\n",
            "Collecting wsproto>=0.14 (from trio-websocket~=0.9->selenium)\n",
            "  Downloading wsproto-1.2.0-py3-none-any.whl (24 kB)\n",
            "Requirement already satisfied: pysocks!=1.5.7,<2.0,>=1.5.6 in /usr/local/lib/python3.10/dist-packages (from urllib3[socks]<3,>=1.26->selenium) (1.7.1)\n",
            "Collecting h11<1,>=0.9.0 (from wsproto>=0.14->trio-websocket~=0.9->selenium)\n",
            "  Downloading h11-0.14.0-py3-none-any.whl (58 kB)\n",
            "\u001b[2K     \u001b[90m━━━━━━━━━━━━━━━━━━━━━━━━━━━━━━━━━━━━━━━━\u001b[0m \u001b[32m58.3/58.3 kB\u001b[0m \u001b[31m6.6 MB/s\u001b[0m eta \u001b[36m0:00:00\u001b[0m\n",
            "\u001b[?25hInstalling collected packages: outcome, h11, wsproto, trio, trio-websocket, selenium\n",
            "Successfully installed h11-0.14.0 outcome-1.3.0.post0 selenium-4.15.2 trio-0.23.1 trio-websocket-0.11.1 wsproto-1.2.0\n"
          ]
        }
      ]
    },
    {
      "cell_type": "markdown",
      "source": [
        "# **2-2.安裝並設置 ChromeDriver：**\n",
        "Colab 環境預先裝有 Chrome，所以你只需要安裝對應的 ChromeDriver。"
      ],
      "metadata": {
        "id": "AQ548rpmA1o1"
      }
    },
    {
      "cell_type": "code",
      "source": [
        "# 安裝 ChromeDriver\n",
        "!apt-get update # 更新 apt 庫\n",
        "!apt install chromium-chromedriver\n",
        "!cp /usr/lib/chromium-browser/chromedriver /usr/bin"
      ],
      "metadata": {
        "colab": {
          "base_uri": "https://localhost:8080/"
        },
        "id": "vG187JdnBIdC",
        "outputId": "d56360cf-1de6-44e9-c765-52279b36cf3f"
      },
      "execution_count": null,
      "outputs": [
        {
          "output_type": "stream",
          "name": "stdout",
          "text": [
            "\r0% [Working]\r            \rHit:1 http://security.ubuntu.com/ubuntu jammy-security InRelease\n",
            "\r0% [Waiting for headers] [Waiting for headers] [Connecting to ppa.launchpadcontent.net (185.125.190.\r                                                                                                    \rHit:2 http://archive.ubuntu.com/ubuntu jammy InRelease\n",
            "\r0% [Waiting for headers] [Waiting for headers] [Connecting to ppa.launchpadcontent.net (185.125.190.\r                                                                                                    \rHit:3 https://developer.download.nvidia.com/compute/cuda/repos/ubuntu2204/x86_64  InRelease\n",
            "\r0% [Waiting for headers] [Waiting for headers] [Connecting to ppa.launchpadcontent.net (185.125.190.\r                                                                                                    \rHit:4 https://cloud.r-project.org/bin/linux/ubuntu jammy-cran40/ InRelease\n",
            "\r                                                                                                    \r0% [Waiting for headers] [Connecting to ppa.launchpadcontent.net (185.125.190.52)]\r                                                                                  \rHit:5 http://archive.ubuntu.com/ubuntu jammy-updates InRelease\n",
            "Hit:6 http://archive.ubuntu.com/ubuntu jammy-backports InRelease\n",
            "Hit:7 https://ppa.launchpadcontent.net/c2d4u.team/c2d4u4.0+/ubuntu jammy InRelease\n",
            "Hit:8 https://ppa.launchpadcontent.net/deadsnakes/ppa/ubuntu jammy InRelease\n",
            "Hit:9 https://ppa.launchpadcontent.net/graphics-drivers/ppa/ubuntu jammy InRelease\n",
            "Hit:10 https://ppa.launchpadcontent.net/ubuntugis/ppa/ubuntu jammy InRelease\n",
            "Reading package lists... Done\n",
            "Reading package lists... Done\n",
            "Building dependency tree... Done\n",
            "Reading state information... Done\n",
            "chromium-chromedriver is already the newest version (1:85.0.4183.83-0ubuntu2.22.04.1).\n",
            "0 upgraded, 0 newly installed, 0 to remove and 18 not upgraded.\n",
            "cp: '/usr/lib/chromium-browser/chromedriver' and '/usr/bin/chromedriver' are the same file\n"
          ]
        }
      ]
    },
    {
      "cell_type": "markdown",
      "source": [
        "# **2-3.安装 webdriver_manager：**\n",
        "\n",
        "在 Colab 中使用 Selenium 需要安装 webdriver_manager，用於自動下載和安裝 WebDriver。根據錯誤信息，看来你還没有安裝 webdriver_manager。"
      ],
      "metadata": {
        "id": "CPxy0zLuDBoN"
      }
    },
    {
      "cell_type": "code",
      "source": [
        "!pip install webdriver_manager"
      ],
      "metadata": {
        "colab": {
          "base_uri": "https://localhost:8080/"
        },
        "id": "6AGHjPChC7HH",
        "outputId": "53ca3585-0fbb-47d0-bede-eed863630376"
      },
      "execution_count": null,
      "outputs": [
        {
          "output_type": "stream",
          "name": "stdout",
          "text": [
            "Requirement already satisfied: webdriver_manager in /usr/local/lib/python3.10/dist-packages (4.0.1)\n",
            "Requirement already satisfied: requests in /usr/local/lib/python3.10/dist-packages (from webdriver_manager) (2.31.0)\n",
            "Requirement already satisfied: python-dotenv in /usr/local/lib/python3.10/dist-packages (from webdriver_manager) (1.0.0)\n",
            "Requirement already satisfied: packaging in /usr/local/lib/python3.10/dist-packages (from webdriver_manager) (23.2)\n",
            "Requirement already satisfied: charset-normalizer<4,>=2 in /usr/local/lib/python3.10/dist-packages (from requests->webdriver_manager) (3.3.2)\n",
            "Requirement already satisfied: idna<4,>=2.5 in /usr/local/lib/python3.10/dist-packages (from requests->webdriver_manager) (3.4)\n",
            "Requirement already satisfied: urllib3<3,>=1.21.1 in /usr/local/lib/python3.10/dist-packages (from requests->webdriver_manager) (2.0.7)\n",
            "Requirement already satisfied: certifi>=2017.4.17 in /usr/local/lib/python3.10/dist-packages (from requests->webdriver_manager) (2023.7.22)\n"
          ]
        }
      ]
    },
    {
      "cell_type": "markdown",
      "source": [
        "# **2-4.配置 Selenium 使用 ChromeDriver：**\n",
        "由於 Colab 不提供圖形用戶界面，因此你需要配置 Selenium 以無頭模式（headless mode）運行 Chrome。"
      ],
      "metadata": {
        "id": "2wMqxeDGBPOK"
      }
    },
    {
      "cell_type": "code",
      "source": [
        "# 請確保 Colab 環境中的 Selenium 已經更新到最新版本\n",
        "!pip install -U selenium\n",
        "!apt-get update\n",
        "!apt install chromium-chromedriver"
      ],
      "metadata": {
        "colab": {
          "base_uri": "https://localhost:8080/"
        },
        "id": "O07EFrqmBVkf",
        "outputId": "f6f1f4a8-4d28-400e-b948-24529d4c8c1c"
      },
      "execution_count": null,
      "outputs": [
        {
          "output_type": "stream",
          "name": "stdout",
          "text": [
            "Requirement already satisfied: selenium in /usr/local/lib/python3.10/dist-packages (4.15.2)\n",
            "Requirement already satisfied: urllib3[socks]<3,>=1.26 in /usr/local/lib/python3.10/dist-packages (from selenium) (2.0.7)\n",
            "Requirement already satisfied: trio~=0.17 in /usr/local/lib/python3.10/dist-packages (from selenium) (0.23.1)\n",
            "Requirement already satisfied: trio-websocket~=0.9 in /usr/local/lib/python3.10/dist-packages (from selenium) (0.11.1)\n",
            "Requirement already satisfied: certifi>=2021.10.8 in /usr/local/lib/python3.10/dist-packages (from selenium) (2023.7.22)\n",
            "Requirement already satisfied: attrs>=20.1.0 in /usr/local/lib/python3.10/dist-packages (from trio~=0.17->selenium) (23.1.0)\n",
            "Requirement already satisfied: sortedcontainers in /usr/local/lib/python3.10/dist-packages (from trio~=0.17->selenium) (2.4.0)\n",
            "Requirement already satisfied: idna in /usr/local/lib/python3.10/dist-packages (from trio~=0.17->selenium) (3.4)\n",
            "Requirement already satisfied: outcome in /usr/local/lib/python3.10/dist-packages (from trio~=0.17->selenium) (1.3.0.post0)\n",
            "Requirement already satisfied: sniffio>=1.3.0 in /usr/local/lib/python3.10/dist-packages (from trio~=0.17->selenium) (1.3.0)\n",
            "Requirement already satisfied: exceptiongroup>=1.0.0rc9 in /usr/local/lib/python3.10/dist-packages (from trio~=0.17->selenium) (1.1.3)\n",
            "Requirement already satisfied: wsproto>=0.14 in /usr/local/lib/python3.10/dist-packages (from trio-websocket~=0.9->selenium) (1.2.0)\n",
            "Requirement already satisfied: pysocks!=1.5.7,<2.0,>=1.5.6 in /usr/local/lib/python3.10/dist-packages (from urllib3[socks]<3,>=1.26->selenium) (1.7.1)\n",
            "Requirement already satisfied: h11<1,>=0.9.0 in /usr/local/lib/python3.10/dist-packages (from wsproto>=0.14->trio-websocket~=0.9->selenium) (0.14.0)\n",
            "Hit:1 https://developer.download.nvidia.com/compute/cuda/repos/ubuntu2204/x86_64  InRelease\n",
            "Hit:2 https://cloud.r-project.org/bin/linux/ubuntu jammy-cran40/ InRelease\n",
            "Hit:3 http://security.ubuntu.com/ubuntu jammy-security InRelease\n",
            "Hit:4 http://archive.ubuntu.com/ubuntu jammy InRelease\n",
            "Hit:5 http://archive.ubuntu.com/ubuntu jammy-updates InRelease\n",
            "Hit:6 https://ppa.launchpadcontent.net/c2d4u.team/c2d4u4.0+/ubuntu jammy InRelease\n",
            "Hit:7 http://archive.ubuntu.com/ubuntu jammy-backports InRelease\n",
            "Hit:8 https://ppa.launchpadcontent.net/deadsnakes/ppa/ubuntu jammy InRelease\n",
            "Hit:9 https://ppa.launchpadcontent.net/graphics-drivers/ppa/ubuntu jammy InRelease\n",
            "Hit:10 https://ppa.launchpadcontent.net/ubuntugis/ppa/ubuntu jammy InRelease\n",
            "Reading package lists... Done\n",
            "Reading package lists... Done\n",
            "Building dependency tree... Done\n",
            "Reading state information... Done\n",
            "chromium-chromedriver is already the newest version (1:85.0.4183.83-0ubuntu2.22.04.1).\n",
            "0 upgraded, 0 newly installed, 0 to remove and 18 not upgraded.\n"
          ]
        }
      ]
    },
    {
      "cell_type": "code",
      "source": [
        "# 導入 ChromeDriverManager\n",
        "from selenium import webdriver\n",
        "from selenium.webdriver.chrome.service import Service\n",
        "from webdriver_manager.chrome import ChromeDriverManager\n",
        "\n",
        "\n",
        "chrome_options = webdriver.ChromeOptions()\n",
        "chrome_options.add_argument('--headless')  # 設定無頭模式\n",
        "chrome_options.add_argument('--no-sandbox')\n",
        "chrome_options.add_argument('--disable-dev-shm-usage')\n",
        "\n",
        "# 使用 Service 來指定 chromedriver 的路徑\n",
        "service = Service(executable_path='/usr/bin/chromedriver')\n",
        "\n",
        "from selenium import webdriver\n",
        "from selenium.webdriver.chrome.options import Options\n",
        "\n",
        "# 為 Selenium 設置 Chrome 選項\n",
        "chrome_options = Options()\n",
        "chrome_options.add_argument('--headless')\n",
        "chrome_options.add_argument('--no-sandbox')\n",
        "chrome_options.add_argument('--disable-dev-shm-usage')\n",
        "\n",
        "# 在 Colab 中，可以直接使用 'chromedriver'（无需指定路径），因为它已经被安装在 PATH 中\n",
        "driver = webdriver.Chrome('chromedriver', options=chrome_options)\n"
      ],
      "metadata": {
        "id": "UxPv_B_3HKuz"
      },
      "execution_count": null,
      "outputs": []
    },
    {
      "cell_type": "code",
      "source": [
        "# 創建 Chrome WebDriver 的實例\n",
        "driver = webdriver.Chrome(service=service, options=chrome_options)"
      ],
      "metadata": {
        "id": "g3yN0v1uJDgg"
      },
      "execution_count": null,
      "outputs": []
    },
    {
      "cell_type": "markdown",
      "source": [
        "# **4.獲取網頁內容：**\n",
        "使用 Selenium 的 WebDriver 來訪問網頁，並等待必要的動態內容加載完成。"
      ],
      "metadata": {
        "id": "kIPh3n43BdQO"
      }
    },
    {
      "cell_type": "code",
      "source": [
        "driver.get('你的目標網址')\n",
        "# 等待頁面加載，可以使用 time.sleep 或 WebDriverWait"
      ],
      "metadata": {
        "id": "a8rl3soUBtGN"
      },
      "execution_count": null,
      "outputs": []
    },
    {
      "cell_type": "markdown",
      "source": [
        "# **5.提取 HTML 內容：**\n",
        "一旦網頁加載完成，你可以獲取頁面的源代碼。"
      ],
      "metadata": {
        "id": "cJ_Ss7wCBuCW"
      }
    },
    {
      "cell_type": "code",
      "source": [
        "html_content = driver.page_source"
      ],
      "metadata": {
        "id": "XgC5eDNSBuTD"
      },
      "execution_count": null,
      "outputs": []
    },
    {
      "cell_type": "markdown",
      "source": [
        "# **6.解析 HTML 內容：**\n",
        "使用 BeautifulSoup 或其他工具來解析 html_content。"
      ],
      "metadata": {
        "id": "w5MLKsn6B5fV"
      }
    },
    {
      "cell_type": "code",
      "source": [
        "soup = BeautifulSoup(html_content, 'html.parser')\n",
        "# 從 soup 中提取你需要的資訊"
      ],
      "metadata": {
        "id": "XX5n9-1AB5tt"
      },
      "execution_count": null,
      "outputs": []
    },
    {
      "cell_type": "markdown",
      "source": [
        "# **7.關閉 WebDriver：**\n",
        "完成操作後，不要忘記關閉 WebDriver。"
      ],
      "metadata": {
        "id": "3ZnA9GczCCnZ"
      }
    },
    {
      "cell_type": "code",
      "source": [
        "driver.quit()"
      ],
      "metadata": {
        "id": "-mnsiu1xCJAG"
      },
      "execution_count": null,
      "outputs": []
    },
    {
      "cell_type": "code",
      "source": [
        "# 對每個找到的 <script> 標籤進行處理\n",
        "for script in script_tags:\n",
        "    # 將 JSON-LD 內容載入為字典\n",
        "    data = json.loads(script.string)\n",
        "\n",
        "    # 檢查 JSON-LD 數據是不是 Event 類型\n",
        "    if data['@type'] == 'Event':\n",
        "        # 提取職缺相關資訊\n",
        "        job_title = data.get('name')\n",
        "        company = data['organizer'].get('name')\n",
        "        location = data['location'].get('name')\n",
        "        description = data.get('description')\n",
        "\n",
        "        # 技能要求通常包含在描述中，可能需要進一步的處理來提取\n",
        "        skills = description  # 這裡你可能需要自定義方法來提取特定的技能列表\n",
        "\n",
        "        # 打印資訊\n",
        "        print(f'Job Title: {job_title}')\n",
        "        print(f'Company: {company}')\n",
        "        print(f'Location: {location}')\n",
        "        print(f'Description: {description}')\n",
        "        print(f'Skills: {skills}')\n",
        "        print('---')"
      ],
      "metadata": {
        "id": "9yMOwjZ_jT2a"
      },
      "execution_count": null,
      "outputs": []
    },
    {
      "cell_type": "code",
      "source": [],
      "metadata": {
        "id": "lVvqW1999N1D"
      },
      "execution_count": null,
      "outputs": []
    }
  ]
}